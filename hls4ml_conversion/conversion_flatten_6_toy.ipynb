{
 "cells": [
  {
   "cell_type": "code",
   "execution_count": 1,
   "metadata": {},
   "outputs": [
    {
     "name": "stdout",
     "output_type": "stream",
     "text": [
      "Saving plot to:  ../plot/\n"
     ]
    }
   ],
   "source": [
    "import hls4ml\n",
    "\n",
    "#Data Processing\n",
    "import numpy as np\n",
    "from numpy import loadtxt, expand_dims\n",
    "import h5py\n",
    "import sys\n",
    "\n",
    "#ML model\n",
    "import tensorflow.keras as keras\n",
    "import tensorflow as tf\n",
    "from tensorflow.keras.layers import Input, Dense,Flatten, Dropout, Activation, concatenate, BatchNormalization, GRU, Add, Conv1D, Conv2D, Concatenate\n",
    "from tensorflow.keras.models import Model, Sequential, load_model\n",
    "\n",
    "\n",
    "from sklearn.metrics import roc_curve\n",
    "from sklearn.metrics import auc\n",
    "\n",
    "#Plot settings\n",
    "%matplotlib inline\n",
    "import matplotlib.pyplot as plt\n",
    "import mplhep as hep\n",
    "plt.style.use(hep.style.ROOT)\n",
    "\n",
    "import matplotlib.pylab as pylab\n",
    "params = {'legend.fontsize': 'medium',\n",
    "         'axes.labelsize': 'x-large',\n",
    "         'axes.titlesize':'x-large',\n",
    "         'xtick.labelsize':'medium',\n",
    "         'ytick.labelsize':'medium'}\n",
    "pylab.rcParams.update(params)\n",
    "\n",
    "#line thickness\n",
    "import matplotlib as mpl\n",
    "mpl.rcParams['lines.linewidth'] = 5\n",
    "\n",
    "#Just to efficiently save plots\n",
    "plot_dir = \"../plot/\"\n",
    "print(\"Saving plot to: \", plot_dir)\n",
    "from datetime import datetime\n",
    "now = datetime.now()\n",
    "dt_string = now.strftime(\"%d-%m-%Y\")\n",
    "save_path = plot_dir + dt_string"
   ]
  },
  {
   "cell_type": "code",
   "execution_count": 2,
   "metadata": {},
   "outputs": [
    {
     "name": "stdout",
     "output_type": "stream",
     "text": [
      "Model: \"sequential\"\n",
      "_________________________________________________________________\n",
      "Layer (type)                 Output Shape              Param #   \n",
      "=================================================================\n",
      "conv1d (Conv1D)              (None, 3, 5)              20        \n",
      "_________________________________________________________________\n",
      "conv1d_1 (Conv1D)            (None, 3, 5)              30        \n",
      "_________________________________________________________________\n",
      "flatten (Flatten)            (None, 15)                0         \n",
      "_________________________________________________________________\n",
      "dense (Dense)                (None, 10)                160       \n",
      "_________________________________________________________________\n",
      "dense_1 (Dense)              (None, 5)                 55        \n",
      "_________________________________________________________________\n",
      "dense_2 (Dense)              (None, 1)                 6         \n",
      "=================================================================\n",
      "Total params: 271\n",
      "Trainable params: 271\n",
      "Non-trainable params: 0\n",
      "_________________________________________________________________\n"
     ]
    }
   ],
   "source": [
    "X_dummy = np.random.rand(10,9,1)\n",
    "\n",
    "model = Sequential()\n",
    "model.add(Conv1D(filters=5, kernel_size=3, strides=3, activation='relu',input_shape=X_dummy.shape[1:]))\n",
    "model.add(Conv1D(filters=5, kernel_size=1,activation='relu'))\n",
    "model.add(Flatten())\n",
    "model.add(Dense(10, activation = 'relu'))\n",
    "model.add(Dense(5, activation = 'relu'))\n",
    "model.add(Dense(1, activation='sigmoid'))\n",
    "model.compile(loss='binary_crossentropy',optimizer='adam', metrics=['binary_accuracy'])\n",
    "\n",
    "model.summary()"
   ]
  },
  {
   "cell_type": "markdown",
   "metadata": {},
   "source": [
    "## 1. Convert the model into firmware"
   ]
  },
  {
   "cell_type": "code",
   "execution_count": 3,
   "metadata": {},
   "outputs": [
    {
     "name": "stdout",
     "output_type": "stream",
     "text": [
      "Interpreting Sequential\n",
      "Topology:\n",
      "Layer name: conv1d_input, layer type: InputLayer, current shape: [[None, 9, 1]]\n",
      "Layer name: conv1d, layer type: Conv1D, current shape: [[None, 9, 1]]\n",
      "Layer name: conv1d_1, layer type: Conv1D, current shape: [[None, 3, 5]]\n",
      "Layer name: dense, layer type: Dense, current shape: [[None, 3, 5]]\n",
      "Layer name: dense_1, layer type: Dense, current shape: [[None, 10]]\n",
      "Layer name: dense_2, layer type: Dense, current shape: [[None, 5]]\n",
      "Creating HLS model\n",
      "WARNING: Invalid ReuseFactor=10 with \"Resource\" strategy in layer \"conv1d\". Using ReuseFactor=15 instead. Valid ReuseFactor(s): 3,15.\n",
      "WARNING: Invalid ReuseFactor=10 with \"Resource\" strategy in layer \"conv1d_1\". Using ReuseFactor=5 instead. Valid ReuseFactor(s): 5,25.\n",
      "WARNING: Invalid ReuseFactor=10 with \"Resource\" strategy in layer \"dense\". Using ReuseFactor=5 instead. Valid ReuseFactor(s): 3,5,15,30,75,150.\n",
      "WARNING: Invalid ReuseFactor=10 with \"Resource\" strategy in layer \"dense_2\". Using ReuseFactor=5 instead. Valid ReuseFactor(s): 5.\n",
      "WARNING: Invalid ReuseFactor=10 with \"Resource\" strategy in layer \"conv1d_1\". Using ReuseFactor=5 instead. Valid ReuseFactor(s): 5,25.\n"
     ]
    }
   ],
   "source": [
    "keras_model = model\n",
    "\n",
    "# Create conversion config\n",
    "yaml_config = {}\n",
    "yaml_config['KerasModel'] = keras_model\n",
    "yaml_config['OutputDir'] = 'L1B_toy'\n",
    "yaml_config['ProjectName'] = 'myproject'\n",
    "yaml_config['XilinxPart'] = 'xcvu9p-flgb2104-2-i'\n",
    "yaml_config['ClockPeriod'] = 5\n",
    "yaml_config['IOType'] = 'io_stream'\n",
    "yaml_config['Backend'] = 'Vivado'\n",
    "\n",
    "yaml_config['HLSConfig'] = {\n",
    "'Model': {\n",
    "'Precision': 'ap_fixed<16,8>',\n",
    "'ReuseFactor': 10,\n",
    "'Strategy': 'Resource',\n",
    "'ConvImplementation': 'encoded'\n",
    "}}\n",
    "\n",
    "\n",
    "hls_model = hls4ml.converters.keras_to_hls(yaml_config)"
   ]
  },
  {
   "cell_type": "code",
   "execution_count": 4,
   "metadata": {},
   "outputs": [
    {
     "name": "stdout",
     "output_type": "stream",
     "text": [
      "Writing HLS project\n",
      "Done\n"
     ]
    }
   ],
   "source": [
    "hls_model.compile()"
   ]
  },
  {
   "cell_type": "markdown",
   "metadata": {},
   "source": [
    "## 2. Make the ROC curve"
   ]
  },
  {
   "cell_type": "markdown",
   "metadata": {},
   "source": [
    "## 3. build the model"
   ]
  },
  {
   "cell_type": "code",
   "execution_count": 5,
   "metadata": {},
   "outputs": [
    {
     "data": {
      "text/plain": [
       "{'EstimatedClockPeriod': '4.361',\n",
       " 'BestLatency': '163',\n",
       " 'WorstLatency': '180',\n",
       " 'IntervalMin': '25',\n",
       " 'IntervalMax': '181',\n",
       " 'BRAM_18K': '15',\n",
       " 'DSP48E': '42',\n",
       " 'FF': '3300',\n",
       " 'LUT': '7380',\n",
       " 'URAM': '0',\n",
       " 'AvailableBRAM_18K': '4320',\n",
       " 'AvailableDSP48E': '6840',\n",
       " 'AvailableFF': '2364480',\n",
       " 'AvailableLUT': '1182240',\n",
       " 'AvailableURAM': '960'}"
      ]
     },
     "execution_count": 5,
     "metadata": {},
     "output_type": "execute_result"
    }
   ],
   "source": [
    "hls_model.build(csim=False, reset = True)"
   ]
  },
  {
   "cell_type": "code",
   "execution_count": 7,
   "metadata": {
    "scrolled": false
   },
   "outputs": [
    {
     "name": "stdout",
     "output_type": "stream",
     "text": [
      "Found 1 solution(s) in L1B_toy/myproject_prj.\n",
      "Reports for solution \"solution1\":\n",
      "\n",
      "C simulation report not found.\n",
      "SYNTHESIS REPORT:\n",
      "================================================================\n",
      "== Vivado HLS Report for 'myproject'\n",
      "================================================================\n",
      "* Date:           Mon May 24 13:53:08 2021\n",
      "\n",
      "* Version:        2019.2.1 (Build 2724168 on Thu Dec 05 05:19:09 MST 2019)\n",
      "* Project:        myproject_prj\n",
      "* Solution:       solution1\n",
      "* Product family: virtexuplus\n",
      "* Target device:  xcvu9p-flgb2104-2-i\n",
      "\n",
      "\n",
      "================================================================\n",
      "== Performance Estimates\n",
      "================================================================\n",
      "+ Timing: \n",
      "    * Summary: \n",
      "    +--------+---------+----------+------------+\n",
      "    |  Clock |  Target | Estimated| Uncertainty|\n",
      "    +--------+---------+----------+------------+\n",
      "    |ap_clk  | 5.00 ns | 4.361 ns |   0.62 ns  |\n",
      "    +--------+---------+----------+------------+\n",
      "\n",
      "+ Latency: \n",
      "    * Summary: \n",
      "    +---------+---------+----------+----------+-----+-----+----------+\n",
      "    |  Latency (cycles) |  Latency (absolute) |  Interval | Pipeline |\n",
      "    |   min   |   max   |    min   |    max   | min | max |   Type   |\n",
      "    +---------+---------+----------+----------+-----+-----+----------+\n",
      "    |      163|      180| 0.815 us | 0.900 us |   25|  181| dataflow |\n",
      "    +---------+---------+----------+----------+-----+-----+----------+\n",
      "\n",
      "    + Detail: \n",
      "        * Instance: \n",
      "        +----------------------------------------------------------+---------------------------------------------------------+---------+---------+-----------+-----------+-----+-----+----------+\n",
      "        |                                                          |                                                         |  Latency (cycles) |   Latency (absolute)  |  Interval | Pipeline |\n",
      "        |                         Instance                         |                          Module                         |   min   |   max   |    min    |    max    | min | max |   Type   |\n",
      "        +----------------------------------------------------------+---------------------------------------------------------+---------+---------+-----------+-----------+-----+-----+----------+\n",
      "        |dense_array_array_ap_fixed_16_8_5_3_0_10u_config6_U0      |dense_array_array_ap_fixed_16_8_5_3_0_10u_config6_s      |       12|       13| 60.000 ns | 65.000 ns |   12|   13|   none   |\n",
      "        |dense_array_array_ap_fixed_16_8_5_3_0_5u_config8_U0       |dense_array_array_ap_fixed_16_8_5_3_0_5u_config8_s       |       12|       13| 60.000 ns | 65.000 ns |   12|   13|   none   |\n",
      "        |conv_1d_cl_array_array_ap_fixed_5u_config2_U0             |conv_1d_cl_array_array_ap_fixed_5u_config2_s             |       18|      180| 90.000 ns |  0.900 us |   18|  180|   none   |\n",
      "        |pointwise_conv_1d_cl_array_array_ap_fixed_5u_config12_U0  |pointwise_conv_1d_cl_array_array_ap_fixed_5u_config12_s  |       24|       24|  0.120 us |  0.120 us |   24|   24|   none   |\n",
      "        |dense_array_array_ap_fixed_16_8_5_3_0_1u_config10_U0      |dense_array_array_ap_fixed_16_8_5_3_0_1u_config10_s      |        7|        8| 35.000 ns | 40.000 ns |    7|    8|   none   |\n",
      "        |relu_array_array_ap_fixed_10u_relu_config7_U0             |relu_array_array_ap_fixed_10u_relu_config7_s             |        0|        0|    0 ns   |    0 ns   |    1|    1| function |\n",
      "        |sigmoid_array_array_ap_fixed_1u_sigmoid_config11_U0       |sigmoid_array_array_ap_fixed_1u_sigmoid_config11_s       |        3|        3| 15.000 ns | 15.000 ns |    1|    1| function |\n",
      "        |relu_array_array_ap_fixed_5u_relu_config3_U0              |relu_array_array_ap_fixed_5u_relu_config3_s              |        5|        5| 25.000 ns | 25.000 ns |    5|    5|   none   |\n",
      "        |relu_array_array_ap_fixed_5u_relu_config5_U0              |relu_array_array_ap_fixed_5u_relu_config5_s              |        5|        5| 25.000 ns | 25.000 ns |    5|    5|   none   |\n",
      "        |relu_array_array_ap_fixed_5u_relu_config9_U0              |relu_array_array_ap_fixed_5u_relu_config9_s              |        0|        0|    0 ns   |    0 ns   |    1|    1| function |\n",
      "        |Block_proc_U0                                             |Block_proc                                               |        0|        0|    0 ns   |    0 ns   |    0|    0|   none   |\n",
      "        +----------------------------------------------------------+---------------------------------------------------------+---------+---------+-----------+-----------+-----+-----+----------+\n",
      "\n",
      "        * Loop: \n",
      "        N/A\n",
      "\n",
      "\n",
      "\n",
      "================================================================\n",
      "== Utilization Estimates\n",
      "================================================================\n",
      "* Summary: \n",
      "+---------------------+---------+-------+---------+---------+-----+\n",
      "|         Name        | BRAM_18K| DSP48E|    FF   |   LUT   | URAM|\n",
      "+---------------------+---------+-------+---------+---------+-----+\n",
      "|DSP                  |        -|      -|        -|        -|    -|\n",
      "|Expression           |        -|      -|        0|       20|    -|\n",
      "|FIFO                 |        0|      -|      255|     1428|    -|\n",
      "|Instance             |       15|     42|     3039|     5896|    -|\n",
      "|Memory               |        -|      -|        -|        -|    -|\n",
      "|Multiplexer          |        -|      -|        -|       36|    -|\n",
      "|Register             |        -|      -|        6|        -|    -|\n",
      "+---------------------+---------+-------+---------+---------+-----+\n",
      "|Total                |       15|     42|     3300|     7380|    0|\n",
      "+---------------------+---------+-------+---------+---------+-----+\n",
      "|Available SLR        |     1440|   2280|   788160|   394080|  320|\n",
      "+---------------------+---------+-------+---------+---------+-----+\n",
      "|Utilization SLR (%)  |        1|      1|    ~0   |        1|    0|\n",
      "+---------------------+---------+-------+---------+---------+-----+\n",
      "|Available            |     4320|   6840|  2364480|  1182240|  960|\n",
      "+---------------------+---------+-------+---------+---------+-----+\n",
      "|Utilization (%)      |    ~0   |   ~0  |    ~0   |    ~0   |    0|\n",
      "+---------------------+---------+-------+---------+---------+-----+\n",
      "\n",
      "+ Detail: \n",
      "    * Instance: \n",
      "    +----------------------------------------------------------+---------------------------------------------------------+---------+-------+------+------+-----+\n",
      "    |                         Instance                         |                          Module                         | BRAM_18K| DSP48E|  FF  |  LUT | URAM|\n",
      "    +----------------------------------------------------------+---------------------------------------------------------+---------+-------+------+------+-----+\n",
      "    |Block_proc_U0                                             |Block_proc                                               |        0|      0|     2|    11|    0|\n",
      "    |conv_1d_cl_array_array_ap_fixed_5u_config2_U0             |conv_1d_cl_array_array_ap_fixed_5u_config2_s             |        0|      1|   312|   680|    0|\n",
      "    |dense_array_array_ap_fixed_16_8_5_3_0_10u_config6_U0      |dense_array_array_ap_fixed_16_8_5_3_0_10u_config6_s      |       14|     30|  1628|  2270|    0|\n",
      "    |dense_array_array_ap_fixed_16_8_5_3_0_1u_config10_U0      |dense_array_array_ap_fixed_16_8_5_3_0_1u_config10_s      |        0|      1|   234|   329|    0|\n",
      "    |dense_array_array_ap_fixed_16_8_5_3_0_5u_config8_U0       |dense_array_array_ap_fixed_16_8_5_3_0_5u_config8_s       |        0|      5|   652|   651|    0|\n",
      "    |pointwise_conv_1d_cl_array_array_ap_fixed_5u_config12_U0  |pointwise_conv_1d_cl_array_array_ap_fixed_5u_config12_s  |        0|      5|   180|   392|    0|\n",
      "    |relu_array_array_ap_fixed_10u_relu_config7_U0             |relu_array_array_ap_fixed_10u_relu_config7_s             |        0|      0|     3|   494|    0|\n",
      "    |relu_array_array_ap_fixed_5u_relu_config3_U0              |relu_array_array_ap_fixed_5u_relu_config3_s              |        0|      0|    10|   323|    0|\n",
      "    |relu_array_array_ap_fixed_5u_relu_config5_U0              |relu_array_array_ap_fixed_5u_relu_config5_s              |        0|      0|    10|   323|    0|\n",
      "    |relu_array_array_ap_fixed_5u_relu_config9_U0              |relu_array_array_ap_fixed_5u_relu_config9_s              |        0|      0|     3|   259|    0|\n",
      "    |sigmoid_array_array_ap_fixed_1u_sigmoid_config11_U0       |sigmoid_array_array_ap_fixed_1u_sigmoid_config11_s       |        1|      0|     5|   164|    0|\n",
      "    +----------------------------------------------------------+---------------------------------------------------------+---------+-------+------+------+-----+\n",
      "    |Total                                                     |                                                         |       15|     42|  3039|  5896|    0|\n",
      "    +----------------------------------------------------------+---------------------------------------------------------+---------+-------+------+------+-----+\n",
      "\n",
      "Co-simulation report not found.\n"
     ]
    }
   ],
   "source": [
    "hls4ml.report.read_vivado_report('L1B_toy')"
   ]
  },
  {
   "cell_type": "markdown",
   "metadata": {},
   "source": [
    "-----"
   ]
  }
 ],
 "metadata": {
  "kernelspec": {
   "display_name": "Python 3",
   "language": "python",
   "name": "python3"
  },
  "language_info": {
   "codemirror_mode": {
    "name": "ipython",
    "version": 3
   },
   "file_extension": ".py",
   "mimetype": "text/x-python",
   "name": "python",
   "nbconvert_exporter": "python",
   "pygments_lexer": "ipython3",
   "version": "3.6.13"
  }
 },
 "nbformat": 4,
 "nbformat_minor": 4
}
