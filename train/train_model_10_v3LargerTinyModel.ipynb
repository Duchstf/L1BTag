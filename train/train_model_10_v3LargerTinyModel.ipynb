{
 "cells": [
  {
   "cell_type": "markdown",
   "metadata": {},
   "source": [
    "# Train Keras model and make performance plots"
   ]
  },
  {
   "cell_type": "code",
   "execution_count": 1,
   "metadata": {},
   "outputs": [
    {
     "name": "stdout",
     "output_type": "stream",
     "text": [
      "Saving plot to:  ../plot/\n"
     ]
    }
   ],
   "source": [
    "#Data Processing\n",
    "import numpy as np\n",
    "from numpy import loadtxt, expand_dims\n",
    "import h5py\n",
    "import sys\n",
    "\n",
    "#ML model\n",
    "import tensorflow.keras as keras\n",
    "import tensorflow as tf\n",
    "from tensorflow.keras.layers import Input, Dense,Flatten, Dropout, Activation, concatenate, BatchNormalization, GRU, Add, Conv1D, Conv2D, Concatenate\n",
    "from tensorflow.keras.models import Model, Sequential, load_model\n",
    "\n",
    "\n",
    "from sklearn.metrics import roc_curve\n",
    "from sklearn.metrics import auc\n",
    "\n",
    "#Plot settings\n",
    "%matplotlib inline\n",
    "import matplotlib.pyplot as plt\n",
    "import mplhep as hep\n",
    "plt.style.use(hep.style.ROOT)\n",
    "\n",
    "import matplotlib.pylab as pylab\n",
    "params = {'legend.fontsize': 'medium',\n",
    "         'axes.labelsize': 'x-large',\n",
    "         'axes.titlesize':'x-large',\n",
    "         'xtick.labelsize':'medium',\n",
    "         'ytick.labelsize':'medium'}\n",
    "pylab.rcParams.update(params)\n",
    "\n",
    "#line thickness\n",
    "import matplotlib as mpl\n",
    "mpl.rcParams['lines.linewidth'] = 5\n",
    "\n",
    "#Just to efficiently save plots\n",
    "plot_dir = \"../plot/\"\n",
    "print(\"Saving plot to: \", plot_dir)\n",
    "from datetime import datetime\n",
    "now = datetime.now()\n",
    "dt_string = now.strftime(\"%d-%m-%Y\")\n",
    "save_path = plot_dir + dt_string"
   ]
  },
  {
   "cell_type": "markdown",
   "metadata": {},
   "source": [
    "## 1. Train model"
   ]
  },
  {
   "cell_type": "code",
   "execution_count": 2,
   "metadata": {},
   "outputs": [
    {
     "name": "stdout",
     "output_type": "stream",
     "text": [
      "X shape:  (200000, 140, 1)\n",
      "y shape:  (200000,)\n"
     ]
    }
   ],
   "source": [
    "#Load in the datasets for training and compiling the sample weights\n",
    "with h5py.File('../data/trainingDataver3.h5', 'r') as hf:\n",
    "    dataset = hf[\"Training Data\"][:]\n",
    "with h5py.File('../data/sampleDataver3.h5', 'r') as hf:\n",
    "    sampleData = hf[\"Sample Data\"][:]\n",
    "    \n",
    "\n",
    "#Separate datasets into inputs and outputs, expand the dimensions of the inputs to be used with Conv1D layers\n",
    "X = dataset[:,0:len(dataset[0])-1]\n",
    "X = expand_dims(X, axis=2)\n",
    "y = dataset[:,len(dataset[0])-1]\n",
    "\n",
    "print(\"X shape: \", X.shape)\n",
    "print(\"y shape: \", y.shape)\n",
    "\n",
    "#Establish the sample weights\n",
    "thebins = np.linspace(0, 200, 100)\n",
    "bkgPts = []\n",
    "sigPts = []\n",
    "for i in range(len(sampleData)):\n",
    "    if y[i]==1:\n",
    "        sigPts.append(sampleData[i][0])\n",
    "    if y[i]==0:\n",
    "        bkgPts.append(sampleData[i][0])\n",
    "bkg_counts, binsbkg = np.histogram(bkgPts, bins=thebins)\n",
    "sig_counts, binssig = np.histogram(sigPts, bins=thebins)\n",
    "a = []\n",
    "for i in range(len(bkg_counts)):\n",
    "    tempSig = float(sig_counts[i])\n",
    "    tempBkg = float(bkg_counts[i])\n",
    "    if tempBkg!=0:\n",
    "        a.append(tempSig/tempBkg)\n",
    "    if tempBkg==0:\n",
    "        a.append(0)\n",
    "        \n",
    "#Normalize the sample weights above a certain pT\n",
    "for i in range(42,len(a)):\n",
    "    a[i]=0.7\n",
    "    \n",
    "#Add in the sample weights, 1-to-1 correspondence with training data\n",
    "#Sample weight of all signal events being equal to 1\n",
    "#Sample weight of all background events being equal to the sig/bkg ratio at that jet's pT\n",
    "weights = []\n",
    "for i in range(len(sampleData)):\n",
    "    if y[i]==1:\n",
    "        weights.append(1)\n",
    "    if y[i]==0:\n",
    "        jetPt = sampleData[i][0]\n",
    "        tempPt = int(jetPt/2)\n",
    "        if tempPt>98:\n",
    "            tempPt = 98\n",
    "        weights.append(a[tempPt])"
   ]
  },
  {
   "cell_type": "code",
   "execution_count": 3,
   "metadata": {},
   "outputs": [
    {
     "name": "stdout",
     "output_type": "stream",
     "text": [
      "Model: \"sequential\"\n",
      "_________________________________________________________________\n",
      "Layer (type)                 Output Shape              Param #   \n",
      "=================================================================\n",
      "conv1d (Conv1D)              (None, 10, 20)            300       \n",
      "_________________________________________________________________\n",
      "conv1d_1 (Conv1D)            (None, 10, 10)            210       \n",
      "_________________________________________________________________\n",
      "flatten (Flatten)            (None, 100)               0         \n",
      "_________________________________________________________________\n",
      "dense (Dense)                (None, 20)                2020      \n",
      "_________________________________________________________________\n",
      "dense_1 (Dense)              (None, 20)                420       \n",
      "_________________________________________________________________\n",
      "dense_2 (Dense)              (None, 1)                 21        \n",
      "=================================================================\n",
      "Total params: 2,971\n",
      "Trainable params: 2,971\n",
      "Non-trainable params: 0\n",
      "_________________________________________________________________\n"
     ]
    }
   ],
   "source": [
    "#Define the model\n",
    "model = Sequential()\n",
    "model.add(Conv1D(filters=20, kernel_size=14, strides=14, activation='relu',input_shape=(len(dataset[0])-1,1)))\n",
    "model.add(Conv1D(filters=10, kernel_size=1,activation='relu'))\n",
    "model.add(Flatten())\n",
    "model.add(Dense(20, activation = 'relu'))\n",
    "model.add(Dense(20, activation = 'relu'))\n",
    "model.add(Dense(1, activation='sigmoid'))\n",
    "model.compile(loss='binary_crossentropy',optimizer='adam', metrics=['binary_accuracy'])\n",
    "\n",
    "model.summary()"
   ]
  },
  {
   "cell_type": "code",
   "execution_count": 4,
   "metadata": {},
   "outputs": [
    {
     "name": "stdout",
     "output_type": "stream",
     "text": [
      "Epoch 1/50\n",
      "3200/3200 - 10s - loss: 0.4607 - binary_accuracy: 0.6241 - val_loss: 0.4536 - val_binary_accuracy: 0.6507\n",
      "Epoch 2/50\n",
      "3200/3200 - 6s - loss: 0.4499 - binary_accuracy: 0.6430 - val_loss: 0.4569 - val_binary_accuracy: 0.6697\n",
      "Epoch 3/50\n",
      "3200/3200 - 6s - loss: 0.4474 - binary_accuracy: 0.6433 - val_loss: 0.4527 - val_binary_accuracy: 0.6170\n",
      "Epoch 4/50\n",
      "3200/3200 - 6s - loss: 0.4456 - binary_accuracy: 0.6441 - val_loss: 0.4534 - val_binary_accuracy: 0.6660\n",
      "Epoch 5/50\n",
      "3200/3200 - 6s - loss: 0.4434 - binary_accuracy: 0.6463 - val_loss: 0.4489 - val_binary_accuracy: 0.6354\n",
      "Epoch 6/50\n",
      "3200/3200 - 6s - loss: 0.4417 - binary_accuracy: 0.6483 - val_loss: 0.4464 - val_binary_accuracy: 0.6358\n",
      "Epoch 7/50\n",
      "3200/3200 - 7s - loss: 0.4385 - binary_accuracy: 0.6515 - val_loss: 0.4448 - val_binary_accuracy: 0.6542\n",
      "Epoch 8/50\n",
      "3200/3200 - 7s - loss: 0.4356 - binary_accuracy: 0.6562 - val_loss: 0.4420 - val_binary_accuracy: 0.6399\n",
      "Epoch 9/50\n",
      "3200/3200 - 6s - loss: 0.4323 - binary_accuracy: 0.6628 - val_loss: 0.4388 - val_binary_accuracy: 0.6631\n",
      "Epoch 10/50\n",
      "3200/3200 - 7s - loss: 0.4296 - binary_accuracy: 0.6688 - val_loss: 0.4375 - val_binary_accuracy: 0.6618\n",
      "Epoch 11/50\n",
      "3200/3200 - 6s - loss: 0.4275 - binary_accuracy: 0.6716 - val_loss: 0.4366 - val_binary_accuracy: 0.6684\n",
      "Epoch 12/50\n",
      "3200/3200 - 6s - loss: 0.4256 - binary_accuracy: 0.6749 - val_loss: 0.4370 - val_binary_accuracy: 0.6533\n",
      "Epoch 13/50\n",
      "3200/3200 - 6s - loss: 0.4237 - binary_accuracy: 0.6786 - val_loss: 0.4351 - val_binary_accuracy: 0.6591\n",
      "Epoch 14/50\n",
      "3200/3200 - 7s - loss: 0.4223 - binary_accuracy: 0.6804 - val_loss: 0.4372 - val_binary_accuracy: 0.6469\n",
      "Epoch 15/50\n",
      "3200/3200 - 6s - loss: 0.4212 - binary_accuracy: 0.6828 - val_loss: 0.4368 - val_binary_accuracy: 0.6858\n",
      "Epoch 16/50\n",
      "3200/3200 - 7s - loss: 0.4200 - binary_accuracy: 0.6832 - val_loss: 0.4317 - val_binary_accuracy: 0.6806\n",
      "Epoch 17/50\n",
      "3200/3200 - 6s - loss: 0.4187 - binary_accuracy: 0.6856 - val_loss: 0.4317 - val_binary_accuracy: 0.6693\n",
      "Epoch 18/50\n",
      "3200/3200 - 6s - loss: 0.4177 - binary_accuracy: 0.6877 - val_loss: 0.4368 - val_binary_accuracy: 0.6535\n",
      "Epoch 19/50\n",
      "3200/3200 - 6s - loss: 0.4167 - binary_accuracy: 0.6886 - val_loss: 0.4323 - val_binary_accuracy: 0.6492\n",
      "Epoch 20/50\n",
      "3200/3200 - 6s - loss: 0.4159 - binary_accuracy: 0.6909 - val_loss: 0.4304 - val_binary_accuracy: 0.6724\n",
      "Epoch 21/50\n",
      "3200/3200 - 6s - loss: 0.4149 - binary_accuracy: 0.6925 - val_loss: 0.4320 - val_binary_accuracy: 0.6743\n",
      "Epoch 22/50\n",
      "3200/3200 - 7s - loss: 0.4140 - binary_accuracy: 0.6932 - val_loss: 0.4305 - val_binary_accuracy: 0.6782\n",
      "Epoch 23/50\n",
      "3200/3200 - 7s - loss: 0.4131 - binary_accuracy: 0.6929 - val_loss: 0.4301 - val_binary_accuracy: 0.6741\n",
      "Epoch 24/50\n",
      "3200/3200 - 6s - loss: 0.4121 - binary_accuracy: 0.6956 - val_loss: 0.4304 - val_binary_accuracy: 0.6804\n",
      "Epoch 25/50\n",
      "3200/3200 - 7s - loss: 0.4113 - binary_accuracy: 0.6958 - val_loss: 0.4291 - val_binary_accuracy: 0.6798\n",
      "Epoch 26/50\n",
      "3200/3200 - 6s - loss: 0.4108 - binary_accuracy: 0.6968 - val_loss: 0.4314 - val_binary_accuracy: 0.6572\n",
      "Epoch 27/50\n",
      "3200/3200 - 7s - loss: 0.4101 - binary_accuracy: 0.6976 - val_loss: 0.4304 - val_binary_accuracy: 0.6703\n",
      "Epoch 28/50\n",
      "3200/3200 - 6s - loss: 0.4097 - binary_accuracy: 0.7000 - val_loss: 0.4307 - val_binary_accuracy: 0.6660\n",
      "Epoch 29/50\n",
      "3200/3200 - 7s - loss: 0.4090 - binary_accuracy: 0.6977 - val_loss: 0.4302 - val_binary_accuracy: 0.6707\n",
      "Epoch 30/50\n",
      "3200/3200 - 7s - loss: 0.4084 - binary_accuracy: 0.6980 - val_loss: 0.4314 - val_binary_accuracy: 0.6682\n",
      "Epoch 00030: early stopping\n"
     ]
    },
    {
     "data": {
      "text/plain": [
       "<tensorflow.python.keras.callbacks.History at 0x7fe824b0bd30>"
      ]
     },
     "execution_count": 4,
     "metadata": {},
     "output_type": "execute_result"
    }
   ],
   "source": [
    "#Train the network\n",
    "callback = tf.keras.callbacks.EarlyStopping(monitor='val_loss', verbose=1, patience=5)\n",
    "\n",
    "model.fit(X,y,\n",
    "          epochs=50,\n",
    "          batch_size=50,\n",
    "          verbose=2,\n",
    "          sample_weight=np.asarray(weights),\n",
    "          validation_split=0.20,\n",
    "          callbacks=[callback])"
   ]
  },
  {
   "cell_type": "code",
   "execution_count": 5,
   "metadata": {},
   "outputs": [],
   "source": [
    "#model.save('../saved_model/L1BTagModel_Flatten_LargerTinyv3.h5')"
   ]
  },
  {
   "cell_type": "markdown",
   "metadata": {},
   "source": [
    "## 2. Make performance plot for the model"
   ]
  },
  {
   "cell_type": "code",
   "execution_count": 9,
   "metadata": {},
   "outputs": [],
   "source": [
    "#Establish the input and output data for each dataset, expanding dimensions for compatability with Conv1D layer input\n",
    "def load_testing_data(data_path):\n",
    "    \n",
    "    with h5py.File(data_path, 'r') as hf:\n",
    "        dataset = hf[\"Testing Data\"][:]\n",
    "    X_test = dataset[:,0:len(dataset[0])-1]\n",
    "    X_test = expand_dims(X_test, axis=2)\n",
    "    y_test = dataset[:,len(dataset[0])-1]\n",
    "    \n",
    "    return X_test, y_test\n",
    "\n",
    "X_test, y_test = load_testing_data('../data/testingDataver3.h5')"
   ]
  },
  {
   "cell_type": "code",
   "execution_count": null,
   "metadata": {},
   "outputs": [],
   "source": [
    "#Load in respective model for the datasets\n",
    "model_1 = load_model('../saved_model/L1BTagModel_100GRU.h5')\n",
    "model_2 = model\n",
    "\n",
    "#Creating ROC curves based on model predictions for each dataset\n",
    "y_pred_1 = model_1.predict(X_test).ravel()\n",
    "y_pred_2 = model_2.predict(X_test).ravel()\n",
    "\n",
    "fpr_1, tpr_1, thresholds_1 = roc_curve(y_test, y_pred_1)\n",
    "fpr_2, tpr_2, thresholds_2 = roc_curve(y_test, y_pred_2)\n",
    "\n",
    "auc_1 = auc(fpr_1, tpr_1)\n",
    "auc_2 = auc(fpr_2, tpr_2)"
   ]
  },
  {
   "cell_type": "code",
   "execution_count": null,
   "metadata": {},
   "outputs": [],
   "source": [
    "#Create plot for ROC\n",
    "plt.figure(1)\n",
    "plt.plot([0,1],[0,1],'k--')\n",
    "\n",
    "plt.plot(fpr_1, tpr_1, label='Conv1D 100GRU, AUC={:.3f}'.format(auc_1))\n",
    "plt.plot(fpr_2, tpr_2, label='Tiny Conv1D Flatten, AUC={:.3f}'.format(auc_2))\n",
    "\n",
    "#Establish labels and save image\n",
    "plt.xlabel('False positive rate')\n",
    "plt.ylabel('True positive rate')\n",
    "plt.legend(loc='best')\n",
    "\n",
    "#p_path = save_path + \"v2LargerTinyConv1D_100GRU_Flatten.pdf\"\n",
    "#print(p_path)\n",
    "#plt.savefig(p_path, bbox_inches='tight')"
   ]
  },
  {
   "cell_type": "code",
   "execution_count": null,
   "metadata": {},
   "outputs": [],
   "source": []
  },
  {
   "cell_type": "code",
   "execution_count": null,
   "metadata": {},
   "outputs": [],
   "source": []
  }
 ],
 "metadata": {
  "kernelspec": {
   "display_name": "Python 3",
   "language": "python",
   "name": "python3"
  },
  "language_info": {
   "codemirror_mode": {
    "name": "ipython",
    "version": 3
   },
   "file_extension": ".py",
   "mimetype": "text/x-python",
   "name": "python",
   "nbconvert_exporter": "python",
   "pygments_lexer": "ipython3",
   "version": "3.6.13"
  }
 },
 "nbformat": 4,
 "nbformat_minor": 5
}
