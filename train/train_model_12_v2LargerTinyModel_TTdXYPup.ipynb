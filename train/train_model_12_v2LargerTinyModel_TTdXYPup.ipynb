{
 "cells": [
  {
   "cell_type": "markdown",
   "metadata": {},
   "source": [
    "# Train Keras model and make performance plots"
   ]
  },
  {
   "cell_type": "code",
   "execution_count": 3,
   "metadata": {},
   "outputs": [
    {
     "name": "stdout",
     "output_type": "stream",
     "text": [
      "Saving plot to:  ../plot/\n"
     ]
    }
   ],
   "source": [
    "#Data Processing\n",
    "import numpy as np\n",
    "from numpy import loadtxt, expand_dims\n",
    "import h5py\n",
    "import sys\n",
    "\n",
    "#ML model\n",
    "import tensorflow.keras as keras\n",
    "import tensorflow as tf\n",
    "from tensorflow.keras.layers import Input, Dense,Flatten, Dropout, Activation, concatenate, BatchNormalization, GRU, Add, Conv1D, Conv2D, Concatenate\n",
    "from tensorflow.keras.models import Model, Sequential, load_model\n",
    "\n",
    "\n",
    "from sklearn.metrics import roc_curve\n",
    "from sklearn.metrics import auc\n",
    "\n",
    "#Plot settings\n",
    "%matplotlib inline\n",
    "import matplotlib.pyplot as plt\n",
    "import mplhep as hep\n",
    "plt.style.use(hep.style.ROOT)\n",
    "\n",
    "import matplotlib.pylab as pylab\n",
    "params = {'legend.fontsize': 'medium',\n",
    "         'axes.labelsize': 'x-large',\n",
    "         'axes.titlesize':'x-large',\n",
    "         'xtick.labelsize':'medium',\n",
    "         'ytick.labelsize':'medium'}\n",
    "pylab.rcParams.update(params)\n",
    "\n",
    "#line thickness\n",
    "import matplotlib as mpl\n",
    "mpl.rcParams['lines.linewidth'] = 5\n",
    "\n",
    "#Just to efficiently save plots\n",
    "plot_dir = \"../plot/\"\n",
    "print(\"Saving plot to: \", plot_dir)\n",
    "from datetime import datetime\n",
    "now = datetime.now()\n",
    "dt_string = now.strftime(\"%d-%m-%Y\")\n",
    "save_path = plot_dir + dt_string"
   ]
  },
  {
   "cell_type": "markdown",
   "metadata": {},
   "source": [
    "## 1. Train model"
   ]
  },
  {
   "cell_type": "code",
   "execution_count": 4,
   "metadata": {},
   "outputs": [
    {
     "name": "stdout",
     "output_type": "stream",
     "text": [
      "X shape:  (389705, 130, 1)\n",
      "y shape:  (389705,)\n"
     ]
    }
   ],
   "source": [
    "#Load in the datasets for training and compiling the sample weights\n",
    "with h5py.File('../data/trainingDataTTdXYPup.h5', 'r') as hf:\n",
    "    dataset = hf[\"Training Data\"][:]\n",
    "with h5py.File('../data/sampleDataTTdXYPup.h5', 'r') as hf:\n",
    "    sampleData = hf[\"Sample Data\"][:]\n",
    "    \n",
    "\n",
    "#Separate datasets into inputs and outputs, expand the dimensions of the inputs to be used with Conv1D layers\n",
    "X = dataset[:,0:len(dataset[0])-1]\n",
    "X = expand_dims(X, axis=2)\n",
    "y = dataset[:,len(dataset[0])-1]\n",
    "\n",
    "print(\"X shape: \", X.shape)\n",
    "print(\"y shape: \", y.shape)\n",
    "\n",
    "#Establish the sample weights\n",
    "thebins = np.linspace(0, 200, 100)\n",
    "bkgPts = []\n",
    "sigPts = []\n",
    "for i in range(len(sampleData)):\n",
    "    if y[i]==1:\n",
    "        sigPts.append(sampleData[i][0])\n",
    "    if y[i]==0:\n",
    "        bkgPts.append(sampleData[i][0])\n",
    "bkg_counts, binsbkg = np.histogram(bkgPts, bins=thebins)\n",
    "sig_counts, binssig = np.histogram(sigPts, bins=thebins)\n",
    "a = []\n",
    "for i in range(len(bkg_counts)):\n",
    "    tempSig = float(sig_counts[i])\n",
    "    tempBkg = float(bkg_counts[i])\n",
    "    if tempBkg!=0:\n",
    "        a.append(tempSig/tempBkg)\n",
    "    if tempBkg==0:\n",
    "        a.append(0)\n",
    "        \n",
    "#Normalize the sample weights above a certain pT\n",
    "for i in range(42,len(a)):\n",
    "    a[i]=0.7\n",
    "    \n",
    "#Add in the sample weights, 1-to-1 correspondence with training data\n",
    "#Sample weight of all signal events being equal to 1\n",
    "#Sample weight of all background events being equal to the sig/bkg ratio at that jet's pT\n",
    "weights = []\n",
    "for i in range(len(sampleData)):\n",
    "    if y[i]==1:\n",
    "        weights.append(1)\n",
    "    if y[i]==0:\n",
    "        jetPt = sampleData[i][0]\n",
    "        tempPt = int(jetPt/2)\n",
    "        if tempPt>98:\n",
    "            tempPt = 98\n",
    "        weights.append(a[tempPt])"
   ]
  },
  {
   "cell_type": "code",
   "execution_count": 5,
   "metadata": {},
   "outputs": [
    {
     "name": "stdout",
     "output_type": "stream",
     "text": [
      "Model: \"sequential\"\n",
      "_________________________________________________________________\n",
      "Layer (type)                 Output Shape              Param #   \n",
      "=================================================================\n",
      "conv1d (Conv1D)              (None, 10, 20)            280       \n",
      "_________________________________________________________________\n",
      "conv1d_1 (Conv1D)            (None, 10, 5)             105       \n",
      "_________________________________________________________________\n",
      "flatten (Flatten)            (None, 50)                0         \n",
      "_________________________________________________________________\n",
      "dense (Dense)                (None, 20)                1020      \n",
      "_________________________________________________________________\n",
      "dense_1 (Dense)              (None, 10)                210       \n",
      "_________________________________________________________________\n",
      "dense_2 (Dense)              (None, 1)                 11        \n",
      "=================================================================\n",
      "Total params: 1,626\n",
      "Trainable params: 1,626\n",
      "Non-trainable params: 0\n",
      "_________________________________________________________________\n"
     ]
    }
   ],
   "source": [
    "#Define the model\n",
    "model = Sequential()\n",
    "model.add(Conv1D(filters=20, kernel_size=13, strides=13, activation='relu',input_shape=(len(dataset[0])-1,1)))\n",
    "model.add(Conv1D(filters=5, kernel_size=1,activation='relu'))\n",
    "model.add(Flatten())\n",
    "model.add(Dense(20, activation = 'relu'))\n",
    "model.add(Dense(10, activation = 'relu'))\n",
    "model.add(Dense(1, activation='sigmoid'))\n",
    "model.compile(loss='binary_crossentropy',optimizer='adam', metrics=['binary_accuracy'])\n",
    "\n",
    "model.summary()"
   ]
  },
  {
   "cell_type": "code",
   "execution_count": 6,
   "metadata": {},
   "outputs": [
    {
     "name": "stdout",
     "output_type": "stream",
     "text": [
      "Epoch 1/50\n",
      "6236/6236 - 17s - loss: 0.5049 - binary_accuracy: 0.6423 - val_loss: 0.4913 - val_binary_accuracy: 0.6722\n",
      "Epoch 2/50\n",
      "6236/6236 - 12s - loss: 0.4876 - binary_accuracy: 0.6685 - val_loss: 0.4865 - val_binary_accuracy: 0.6733\n",
      "Epoch 3/50\n",
      "6236/6236 - 12s - loss: 0.4837 - binary_accuracy: 0.6725 - val_loss: 0.4875 - val_binary_accuracy: 0.6858\n",
      "Epoch 4/50\n",
      "6236/6236 - 12s - loss: 0.4813 - binary_accuracy: 0.6747 - val_loss: 0.4816 - val_binary_accuracy: 0.6702\n",
      "Epoch 5/50\n",
      "6236/6236 - 12s - loss: 0.4789 - binary_accuracy: 0.6761 - val_loss: 0.4860 - val_binary_accuracy: 0.6493\n",
      "Epoch 6/50\n",
      "6236/6236 - 12s - loss: 0.4770 - binary_accuracy: 0.6766 - val_loss: 0.4799 - val_binary_accuracy: 0.6622\n",
      "Epoch 7/50\n",
      "6236/6236 - 12s - loss: 0.4745 - binary_accuracy: 0.6788 - val_loss: 0.4775 - val_binary_accuracy: 0.6699\n",
      "Epoch 8/50\n",
      "6236/6236 - 11s - loss: 0.4720 - binary_accuracy: 0.6817 - val_loss: 0.4730 - val_binary_accuracy: 0.6816\n",
      "Epoch 9/50\n",
      "6236/6236 - 11s - loss: 0.4700 - binary_accuracy: 0.6833 - val_loss: 0.4740 - val_binary_accuracy: 0.6708\n",
      "Epoch 10/50\n",
      "6236/6236 - 12s - loss: 0.4679 - binary_accuracy: 0.6862 - val_loss: 0.4715 - val_binary_accuracy: 0.6789\n",
      "Epoch 11/50\n",
      "6236/6236 - 12s - loss: 0.4660 - binary_accuracy: 0.6885 - val_loss: 0.4708 - val_binary_accuracy: 0.6816\n",
      "Epoch 12/50\n",
      "6236/6236 - 12s - loss: 0.4641 - binary_accuracy: 0.6905 - val_loss: 0.4670 - val_binary_accuracy: 0.6946\n",
      "Epoch 13/50\n",
      "6236/6236 - 12s - loss: 0.4630 - binary_accuracy: 0.6920 - val_loss: 0.4663 - val_binary_accuracy: 0.6908\n",
      "Epoch 14/50\n",
      "6236/6236 - 12s - loss: 0.4617 - binary_accuracy: 0.6935 - val_loss: 0.4714 - val_binary_accuracy: 0.6647\n",
      "Epoch 15/50\n",
      "6236/6236 - 12s - loss: 0.4609 - binary_accuracy: 0.6938 - val_loss: 0.4661 - val_binary_accuracy: 0.6863\n",
      "Epoch 16/50\n",
      "6236/6236 - 12s - loss: 0.4601 - binary_accuracy: 0.6945 - val_loss: 0.4646 - val_binary_accuracy: 0.6869\n",
      "Epoch 17/50\n",
      "6236/6236 - 11s - loss: 0.4597 - binary_accuracy: 0.6950 - val_loss: 0.4678 - val_binary_accuracy: 0.6748\n",
      "Epoch 18/50\n",
      "6236/6236 - 12s - loss: 0.4596 - binary_accuracy: 0.6960 - val_loss: 0.4645 - val_binary_accuracy: 0.6974\n",
      "Epoch 19/50\n",
      "6236/6236 - 12s - loss: 0.4586 - binary_accuracy: 0.6970 - val_loss: 0.4652 - val_binary_accuracy: 0.6843\n",
      "Epoch 20/50\n",
      "6236/6236 - 12s - loss: 0.4584 - binary_accuracy: 0.6960 - val_loss: 0.4645 - val_binary_accuracy: 0.6837\n",
      "Epoch 21/50\n",
      "6236/6236 - 12s - loss: 0.4580 - binary_accuracy: 0.6971 - val_loss: 0.4655 - val_binary_accuracy: 0.6799\n",
      "Epoch 22/50\n",
      "6236/6236 - 12s - loss: 0.4574 - binary_accuracy: 0.6979 - val_loss: 0.4683 - val_binary_accuracy: 0.6715\n",
      "Epoch 23/50\n",
      "6236/6236 - 12s - loss: 0.4572 - binary_accuracy: 0.6982 - val_loss: 0.4641 - val_binary_accuracy: 0.6828\n",
      "Epoch 24/50\n",
      "6236/6236 - 12s - loss: 0.4568 - binary_accuracy: 0.6985 - val_loss: 0.4623 - val_binary_accuracy: 0.6962\n",
      "Epoch 25/50\n",
      "6236/6236 - 12s - loss: 0.4567 - binary_accuracy: 0.6989 - val_loss: 0.4728 - val_binary_accuracy: 0.6686\n",
      "Epoch 26/50\n",
      "6236/6236 - 12s - loss: 0.4564 - binary_accuracy: 0.6997 - val_loss: 0.4624 - val_binary_accuracy: 0.6886\n",
      "Epoch 27/50\n",
      "6236/6236 - 12s - loss: 0.4560 - binary_accuracy: 0.7005 - val_loss: 0.4647 - val_binary_accuracy: 0.6851\n",
      "Epoch 28/50\n",
      "6236/6236 - 12s - loss: 0.4560 - binary_accuracy: 0.7004 - val_loss: 0.4636 - val_binary_accuracy: 0.6914\n",
      "Epoch 29/50\n",
      "6236/6236 - 12s - loss: 0.4557 - binary_accuracy: 0.7004 - val_loss: 0.4641 - val_binary_accuracy: 0.6882\n",
      "Epoch 00029: early stopping\n"
     ]
    },
    {
     "data": {
      "text/plain": [
       "<tensorflow.python.keras.callbacks.History at 0x7f2f95dbfef0>"
      ]
     },
     "execution_count": 6,
     "metadata": {},
     "output_type": "execute_result"
    }
   ],
   "source": [
    "#Train the network\n",
    "callback = tf.keras.callbacks.EarlyStopping(monitor='val_loss', verbose=1, patience=5)\n",
    "\n",
    "model.fit(X,y,\n",
    "          epochs=50,\n",
    "          batch_size=50,\n",
    "          verbose=2,\n",
    "          sample_weight=np.asarray(weights),\n",
    "          validation_split=0.20,\n",
    "          callbacks=[callback])"
   ]
  },
  {
   "cell_type": "code",
   "execution_count": 7,
   "metadata": {},
   "outputs": [],
   "source": [
    "model.save('../saved_model/L1BTagModel_Flatten_LargerTinyv2_TTdXYPup.h5')"
   ]
  },
  {
   "cell_type": "markdown",
   "metadata": {},
   "source": [
    "## 2. Make performance plot for the model"
   ]
  },
  {
   "cell_type": "code",
   "execution_count": 8,
   "metadata": {},
   "outputs": [],
   "source": [
    "#Establish the input and output data for each dataset, expanding dimensions for compatability with Conv1D layer input\n",
    "def load_testing_data(data_path):\n",
    "    \n",
    "    with h5py.File(data_path, 'r') as hf:\n",
    "        dataset = hf[\"Testing Data\"][:]\n",
    "    X_test = dataset[:,0:len(dataset[0])-1]\n",
    "    X_test = expand_dims(X_test, axis=2)\n",
    "    y_test = dataset[:,len(dataset[0])-1]\n",
    "    \n",
    "    return X_test, y_test\n",
    "\n",
    "X_test, y_test = load_testing_data('../data/testingDataTTdXYPup.h5')"
   ]
  },
  {
   "cell_type": "code",
   "execution_count": 9,
   "metadata": {},
   "outputs": [],
   "source": [
    "#Load in respective model for the datasets\n",
    "#model_1 = load_model('../saved_model/L1BTagModel_100GRU.h5')\n",
    "model_2 = load_model('../saved_model/L1BTagModel_Flatten_LargerTinyv2_TTdXYPup.h5')\n",
    "\n",
    "#Creating ROC curves based on model predictions for each dataset\n",
    "#y_pred_1 = model_1.predict(X_test).ravel()\n",
    "y_pred_2 = model_2.predict(X_test).ravel()\n",
    "\n",
    "#fpr_1, tpr_1, thresholds_1 = roc_curve(y_test, y_pred_1)\n",
    "fpr_2, tpr_2, thresholds_2 = roc_curve(y_test, y_pred_2)\n",
    "\n",
    "#auc_1 = auc(fpr_1, tpr_1)\n",
    "auc_2 = auc(fpr_2, tpr_2)"
   ]
  },
  {
   "cell_type": "code",
   "execution_count": 10,
   "metadata": {},
   "outputs": [
    {
     "data": {
      "text/plain": [
       "<matplotlib.legend.Legend at 0x7f2f9445c2b0>"
      ]
     },
     "execution_count": 10,
     "metadata": {},
     "output_type": "execute_result"
    },
    {
     "data": {
      "image/png": "[encoded data removed]",
      "text/plain": [
       "<Figure size 720x720 with 1 Axes>"
      ]
     },
     "metadata": {
      "needs_background": "light"
     },
     "output_type": "display_data"
    }
   ],
   "source": [
    "#Create plot for ROC\n",
    "plt.figure(1)\n",
    "plt.plot([0,1],[0,1],'k--')\n",
    "\n",
    "#plt.plot(fpr_1, tpr_1, label='Conv1D 100GRU, AUC={:.3f}'.format(auc_1))\n",
    "plt.plot(fpr_2, tpr_2, label='Tiny Conv1D Flatten, AUC={:.3f}'.format(auc_2))\n",
    "\n",
    "#Establish labels and save image\n",
    "plt.xlabel('False positive rate')\n",
    "plt.ylabel('True positive rate')\n",
    "plt.legend(loc='best')\n",
    "\n",
    "#p_path = save_path + \"v2LargerTinyConv1D_100GRU_Flatten.pdf\"\n",
    "#print(p_path)\n",
    "#plt.savefig(p_path, bbox_inches='tight')"
   ]
  },
  {
   "cell_type": "code",
   "execution_count": null,
   "metadata": {},
   "outputs": [],
   "source": []
  }
 ],
 "metadata": {
  "kernelspec": {
   "display_name": "Python 3",
   "language": "python",
   "name": "python3"
  },
  "language_info": {
   "codemirror_mode": {
    "name": "ipython",
    "version": 3
   },
   "file_extension": ".py",
   "mimetype": "text/x-python",
   "name": "python",
   "nbconvert_exporter": "python",
   "pygments_lexer": "ipython3",
   "version": "3.6.13"
  }
 },
 "nbformat": 4,
 "nbformat_minor": 5
}
