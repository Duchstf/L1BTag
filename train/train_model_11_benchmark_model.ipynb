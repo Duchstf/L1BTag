{
 "cells": [
  {
   "cell_type": "markdown",
   "metadata": {},
   "source": [
    "# Train Keras model and make performance plots"
   ]
  },
  {
   "cell_type": "code",
   "execution_count": 1,
   "metadata": {},
   "outputs": [
    {
     "name": "stdout",
     "output_type": "stream",
     "text": [
      "Saving plot to:  plot/\n"
     ]
    }
   ],
   "source": [
    "#Data Processing\n",
    "import numpy as np\n",
    "from numpy import loadtxt, expand_dims\n",
    "import h5py\n",
    "import sys\n",
    "\n",
    "#ML model\n",
    "import tensorflow.keras as keras\n",
    "import tensorflow as tf\n",
    "from tensorflow.keras.layers import Input, Dense,Flatten, Dropout, Activation, concatenate, BatchNormalization, GRU, Add, Conv1D, Conv2D, Concatenate\n",
    "from tensorflow.keras.models import Model, Sequential, load_model\n",
    "\n",
    "\n",
    "from sklearn.metrics import roc_curve\n",
    "from sklearn.metrics import auc\n",
    "\n",
    "#Plot settings\n",
    "%matplotlib inline\n",
    "import matplotlib.pyplot as plt\n",
    "import mplhep as hep\n",
    "plt.style.use(hep.style.ROOT)\n",
    "\n",
    "import matplotlib.pylab as pylab\n",
    "params = {'legend.fontsize': 'medium',\n",
    "         'axes.labelsize': 'x-large',\n",
    "         'axes.titlesize':'x-large',\n",
    "         'xtick.labelsize':'medium',\n",
    "         'ytick.labelsize':'medium'}\n",
    "pylab.rcParams.update(params)\n",
    "\n",
    "#line thickness\n",
    "import matplotlib as mpl\n",
    "mpl.rcParams['lines.linewidth'] = 5\n",
    "\n",
    "#Just to efficiently save plots\n",
    "plot_dir = \"plot/\"\n",
    "print(\"Saving plot to: \", plot_dir)\n",
    "from datetime import datetime\n",
    "now = datetime.now()\n",
    "dt_string = now.strftime(\"%d-%m-%Y\")\n",
    "save_path = plot_dir + dt_string"
   ]
  },
  {
   "cell_type": "markdown",
   "metadata": {},
   "source": [
    "## 1. Train model"
   ]
  },
  {
   "cell_type": "code",
   "execution_count": 3,
   "metadata": {},
   "outputs": [
    {
     "name": "stdout",
     "output_type": "stream",
     "text": [
      "X shape:  (420000, 140, 1)\n",
      "y shape:  (420000,)\n"
     ]
    }
   ],
   "source": [
    "#Load in the datasets for training and compiling the sample weights\n",
    "with h5py.File('../data/trainingDataver3Pup.h5', 'r') as hf:\n",
    "    dataset = hf[\"Training Data\"][:]\n",
    "with h5py.File('../data/sampleDataver3Pup.h5', 'r') as hf:\n",
    "    sampleData = hf[\"Sample Data\"][:]\n",
    "    \n",
    "\n",
    "#Separate datasets into inputs and outputs, expand the dimensions of the inputs to be used with Conv1D layers\n",
    "X = dataset[:,0:len(dataset[0])-1]\n",
    "X = expand_dims(X, axis=2)\n",
    "y = dataset[:,len(dataset[0])-1]\n",
    "\n",
    "print(\"X shape: \", X.shape)\n",
    "print(\"y shape: \", y.shape)\n",
    "\n",
    "#Establish the sample weights\n",
    "thebins = np.linspace(0, 200, 100)\n",
    "bkgPts = []\n",
    "sigPts = []\n",
    "for i in range(len(sampleData)):\n",
    "    if y[i]==1:\n",
    "        sigPts.append(sampleData[i][0])\n",
    "    if y[i]==0:\n",
    "        bkgPts.append(sampleData[i][0])\n",
    "bkg_counts, binsbkg = np.histogram(bkgPts, bins=thebins)\n",
    "sig_counts, binssig = np.histogram(sigPts, bins=thebins)\n",
    "a = []\n",
    "for i in range(len(bkg_counts)):\n",
    "    tempSig = float(sig_counts[i])\n",
    "    tempBkg = float(bkg_counts[i])\n",
    "    if tempBkg!=0:\n",
    "        a.append(tempSig/tempBkg)\n",
    "    if tempBkg==0:\n",
    "        a.append(0)\n",
    "        \n",
    "#Normalize the sample weights above a certain pT\n",
    "for i in range(42,len(a)):\n",
    "    a[i]=0.7\n",
    "    \n",
    "#Add in the sample weights, 1-to-1 correspondence with training data\n",
    "#Sample weight of all signal events being equal to 1\n",
    "#Sample weight of all background events being equal to the sig/bkg ratio at that jet's pT\n",
    "weights = []\n",
    "for i in range(len(sampleData)):\n",
    "    if y[i]==1:\n",
    "        weights.append(1)\n",
    "    if y[i]==0:\n",
    "        jetPt = sampleData[i][0]\n",
    "        tempPt = int(jetPt/2)\n",
    "        if tempPt>98:\n",
    "            tempPt = 98\n",
    "        weights.append(a[tempPt])"
   ]
  },
  {
   "cell_type": "code",
   "execution_count": 4,
   "metadata": {},
   "outputs": [
    {
     "name": "stdout",
     "output_type": "stream",
     "text": [
      "Model: \"sequential\"\n",
      "_________________________________________________________________\n",
      "Layer (type)                 Output Shape              Param #   \n",
      "=================================================================\n",
      "conv1d (Conv1D)              (None, 10, 50)            750       \n",
      "_________________________________________________________________\n",
      "conv1d_1 (Conv1D)            (None, 10, 50)            2550      \n",
      "_________________________________________________________________\n",
      "gru (GRU)                    (None, 100)               45600     \n",
      "_________________________________________________________________\n",
      "dense (Dense)                (None, 50)                5050      \n",
      "_________________________________________________________________\n",
      "dense_1 (Dense)              (None, 10)                510       \n",
      "_________________________________________________________________\n",
      "dense_2 (Dense)              (None, 1)                 11        \n",
      "=================================================================\n",
      "Total params: 54,471\n",
      "Trainable params: 54,471\n",
      "Non-trainable params: 0\n",
      "_________________________________________________________________\n"
     ]
    }
   ],
   "source": [
    "#Define the model\n",
    "model = Sequential()\n",
    "model.add(Conv1D(filters=50, kernel_size=14, strides=14, activation='relu',input_shape=(len(dataset[0])-1,1)))\n",
    "model.add(Conv1D(filters=50, kernel_size=1,activation='relu'))\n",
    "model.add(GRU(100))\n",
    "model.add(Dense(50, activation = 'relu'))\n",
    "model.add(Dense(10, activation = 'relu'))\n",
    "model.add(Dense(1, activation='sigmoid'))\n",
    "model.compile(loss='binary_crossentropy',optimizer='adam', metrics=['binary_accuracy'])\n",
    "\n",
    "model.summary()"
   ]
  },
  {
   "cell_type": "code",
   "execution_count": 5,
   "metadata": {},
   "outputs": [
    {
     "name": "stdout",
     "output_type": "stream",
     "text": [
      "Epoch 1/50\n",
      "6720/6720 - 82s - loss: 0.4882 - binary_accuracy: 0.6412 - val_loss: 0.4784 - val_binary_accuracy: 0.6537\n",
      "Epoch 2/50\n",
      "6720/6720 - 75s - loss: 0.4599 - binary_accuracy: 0.6587 - val_loss: 0.4412 - val_binary_accuracy: 0.6958\n",
      "Epoch 3/50\n",
      "6720/6720 - 76s - loss: 0.4338 - binary_accuracy: 0.6907 - val_loss: 0.4323 - val_binary_accuracy: 0.7012\n",
      "Epoch 4/50\n",
      "6720/6720 - 76s - loss: 0.4280 - binary_accuracy: 0.6934 - val_loss: 0.4317 - val_binary_accuracy: 0.7004\n",
      "Epoch 5/50\n",
      "6720/6720 - 75s - loss: 0.4249 - binary_accuracy: 0.6972 - val_loss: 0.4274 - val_binary_accuracy: 0.6721\n",
      "Epoch 6/50\n",
      "6720/6720 - 76s - loss: 0.4211 - binary_accuracy: 0.7023 - val_loss: 0.4264 - val_binary_accuracy: 0.6870\n",
      "Epoch 7/50\n",
      "6720/6720 - 75s - loss: 0.4180 - binary_accuracy: 0.7052 - val_loss: 0.4252 - val_binary_accuracy: 0.6824\n",
      "Epoch 8/50\n",
      "6720/6720 - 75s - loss: 0.4144 - binary_accuracy: 0.7072 - val_loss: 0.4296 - val_binary_accuracy: 0.6812\n",
      "Epoch 9/50\n",
      "6720/6720 - 67s - loss: 0.4101 - binary_accuracy: 0.7114 - val_loss: 0.4307 - val_binary_accuracy: 0.6980\n",
      "Epoch 10/50\n",
      "6720/6720 - 59s - loss: 0.4052 - binary_accuracy: 0.7155 - val_loss: 0.4341 - val_binary_accuracy: 0.7018\n",
      "Epoch 11/50\n",
      "6720/6720 - 72s - loss: 0.3998 - binary_accuracy: 0.7195 - val_loss: 0.4363 - val_binary_accuracy: 0.6777\n",
      "Epoch 12/50\n",
      "6720/6720 - 76s - loss: 0.3942 - binary_accuracy: 0.7240 - val_loss: 0.4416 - val_binary_accuracy: 0.7000\n",
      "Epoch 00012: early stopping\n"
     ]
    },
    {
     "data": {
      "text/plain": [
       "<tensorflow.python.keras.callbacks.History at 0x7faa9eaf54a8>"
      ]
     },
     "execution_count": 5,
     "metadata": {},
     "output_type": "execute_result"
    }
   ],
   "source": [
    "#Train the network\n",
    "callback = tf.keras.callbacks.EarlyStopping(monitor='val_loss', verbose=1, patience=5)\n",
    "\n",
    "model.fit(X,y,\n",
    "          epochs=50,\n",
    "          batch_size=50,\n",
    "          verbose=2,\n",
    "          sample_weight=np.asarray(weights),\n",
    "          validation_split=0.20,\n",
    "          callbacks=[callback])"
   ]
  },
  {
   "cell_type": "code",
   "execution_count": 5,
   "metadata": {},
   "outputs": [],
   "source": [
    "model.save('saved_model/L1BTagModel_100GRUPup.h5')"
   ]
  },
  {
   "cell_type": "markdown",
   "metadata": {},
   "source": [
    "## 2. Make performance plot for the model"
   ]
  },
  {
   "cell_type": "code",
   "execution_count": null,
   "metadata": {},
   "outputs": [],
   "source": [
    "## See the other train_model_11"
   ]
  },
  {
   "cell_type": "raw",
   "metadata": {},
   "source": [
    "#Establish the input and output data for each dataset, expanding dimensions for compatability with Conv1D layer input\n",
    "def load_testing_data(data_path):\n",
    "    \n",
    "    with h5py.File(data_path, 'r') as hf:\n",
    "        dataset = hf[\"Testing Data\"][:]\n",
    "\n",
    "    X_test = dataset[:,0:len(dataset[0])-1]\n",
    "    X_test = expand_dims(X_test, axis=2)\n",
    "    y_test = dataset[:,len(dataset[0])-1]\n",
    "    \n",
    "    return X_test, y_test\n",
    "\n",
    "X_test, y_test = load_testing_data('../data/testingDataver3.h5')"
   ]
  },
  {
   "cell_type": "raw",
   "metadata": {},
   "source": [
    "#Load in respective model for the datasets\n",
    "model = load_model('../saved_model/L1BTagModel_100GRU.h5')\n",
    "\n",
    "#Creating ROC curves based on model predictions for each dataset\n",
    "y_pred = model.predict(X_test).ravel()\n",
    "\n",
    "fpr, tpr, thresholds_ = roc_curve(y_test, y_pred)\n",
    "auc = auc(fpr, tpr)"
   ]
  },
  {
   "cell_type": "raw",
   "metadata": {},
   "source": [
    "#Create plot for ROC\n",
    "plt.figure(1)\n",
    "plt.plot([0,1],[0,1],'k--')\n",
    "\n",
    "plt.plot(fpr, tpr, label='Conv1D_100GRU, AUC={:.3f}'.format(auc))\n",
    "\n",
    "#Establish labels and save image\n",
    "plt.xlabel('False positive rate')\n",
    "plt.ylabel('True positive rate')\n",
    "plt.legend(loc='best')\n",
    "\n",
    "p_path = save_path + \"Conv1D_100GRU.pdf\" \n",
    "plt.savefig(p_path, bbox_inches='tight')"
   ]
  },
  {
   "cell_type": "code",
   "execution_count": null,
   "metadata": {},
   "outputs": [],
   "source": []
  }
 ],
 "metadata": {
  "kernelspec": {
   "display_name": "Python 3",
   "language": "python",
   "name": "python3"
  },
  "language_info": {
   "codemirror_mode": {
    "name": "ipython",
    "version": 3
   },
   "file_extension": ".py",
   "mimetype": "text/x-python",
   "name": "python",
   "nbconvert_exporter": "python",
   "pygments_lexer": "ipython3",
   "version": "3.6.13"
  }
 },
 "nbformat": 4,
 "nbformat_minor": 5
}
