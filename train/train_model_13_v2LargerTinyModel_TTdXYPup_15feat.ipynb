{
 "cells": [
  {
   "cell_type": "markdown",
   "id": "44cf2021",
   "metadata": {},
   "source": [
    "# Train Keras model and make performance plots"
   ]
  },
  {
   "cell_type": "code",
   "execution_count": 1,
   "id": "eaaaa98d",
   "metadata": {},
   "outputs": [
    {
     "name": "stdout",
     "output_type": "stream",
     "text": [
      "Saving plot to:  ../plot/\n"
     ]
    }
   ],
   "source": [
    "#Data Processing\n",
    "import numpy as np\n",
    "from numpy import loadtxt, expand_dims\n",
    "import h5py\n",
    "import sys\n",
    "\n",
    "#ML model\n",
    "import tensorflow.keras as keras\n",
    "import tensorflow as tf\n",
    "from tensorflow.keras.layers import Input, Dense,Flatten, Dropout, Activation, concatenate, BatchNormalization, GRU, Add, Conv1D, Conv2D, Concatenate\n",
    "from tensorflow.keras.models import Model, Sequential, load_model\n",
    "\n",
    "\n",
    "from sklearn.metrics import roc_curve\n",
    "from sklearn.metrics import auc\n",
    "\n",
    "#Plot settings\n",
    "%matplotlib inline\n",
    "import matplotlib.pyplot as plt\n",
    "import mplhep as hep\n",
    "plt.style.use(hep.style.ROOT)\n",
    "\n",
    "import matplotlib.pylab as pylab\n",
    "params = {'legend.fontsize': 'medium',\n",
    "         'axes.labelsize': 'x-large',\n",
    "         'axes.titlesize':'x-large',\n",
    "         'xtick.labelsize':'medium',\n",
    "         'ytick.labelsize':'medium'}\n",
    "pylab.rcParams.update(params)\n",
    "\n",
    "#line thickness\n",
    "import matplotlib as mpl\n",
    "mpl.rcParams['lines.linewidth'] = 5\n",
    "\n",
    "#Just to efficiently save plots\n",
    "plot_dir = \"../plot/\"\n",
    "print(\"Saving plot to: \", plot_dir)\n",
    "from datetime import datetime\n",
    "now = datetime.now()\n",
    "dt_string = now.strftime(\"%d-%m-%Y\")\n",
    "save_path = plot_dir + dt_string"
   ]
  },
  {
   "cell_type": "markdown",
   "id": "abf0917d",
   "metadata": {},
   "source": [
    "## 1. Train model"
   ]
  },
  {
   "cell_type": "code",
   "execution_count": 2,
   "id": "86da2b39",
   "metadata": {},
   "outputs": [
    {
     "name": "stdout",
     "output_type": "stream",
     "text": [
      "X shape:  (389705, 130, 1)\n",
      "y shape:  (389705,)\n"
     ]
    }
   ],
   "source": [
    "#Load in the datasets for training and compiling the sample weights\n",
    "with h5py.File('../data/trainingDataTTdXYPup.h5', 'r') as hf:\n",
    "    dataset = hf[\"Training Data\"][:]\n",
    "with h5py.File('../data/sampleDataTTdXYPup.h5', 'r') as hf:\n",
    "    sampleData = hf[\"Sample Data\"][:]\n",
    "    \n",
    "\n",
    "#Separate datasets into inputs and outputs, expand the dimensions of the inputs to be used with Conv1D layers\n",
    "X = dataset[:,0:len(dataset[0])-1]\n",
    "X = expand_dims(X, axis=2)\n",
    "y = dataset[:,len(dataset[0])-1]\n",
    "\n",
    "print(\"X shape: \", X.shape)\n",
    "print(\"y shape: \", y.shape)\n",
    "\n",
    "#Establish the sample weights\n",
    "thebins = np.linspace(0, 200, 100)\n",
    "bkgPts = []\n",
    "sigPts = []\n",
    "for i in range(len(sampleData)):\n",
    "    if y[i]==1:\n",
    "        sigPts.append(sampleData[i][0])\n",
    "    if y[i]==0:\n",
    "        bkgPts.append(sampleData[i][0])\n",
    "bkg_counts, binsbkg = np.histogram(bkgPts, bins=thebins)\n",
    "sig_counts, binssig = np.histogram(sigPts, bins=thebins)\n",
    "a = []\n",
    "for i in range(len(bkg_counts)):\n",
    "    tempSig = float(sig_counts[i])\n",
    "    tempBkg = float(bkg_counts[i])\n",
    "    if tempBkg!=0:\n",
    "        a.append(tempSig/tempBkg)\n",
    "    if tempBkg==0:\n",
    "        a.append(0)\n",
    "        \n",
    "#Normalize the sample weights above a certain pT\n",
    "for i in range(42,len(a)):\n",
    "    a[i]=0.7\n",
    "    \n",
    "#Add in the sample weights, 1-to-1 correspondence with training data\n",
    "#Sample weight of all signal events being equal to 1\n",
    "#Sample weight of all background events being equal to the sig/bkg ratio at that jet's pT\n",
    "weights = []\n",
    "for i in range(len(sampleData)):\n",
    "    if y[i]==1:\n",
    "        weights.append(1)\n",
    "    if y[i]==0:\n",
    "        jetPt = sampleData[i][0]\n",
    "        tempPt = int(jetPt/2)\n",
    "        if tempPt>98:\n",
    "            tempPt = 98\n",
    "        weights.append(a[tempPt])"
   ]
  },
  {
   "cell_type": "code",
   "execution_count": 10,
   "id": "d1047b71",
   "metadata": {},
   "outputs": [],
   "source": [
    "#Zero padding X\n",
    "X= np.pad(X, ((0,0),(0,20),(0,0)), 'constant')"
   ]
  },
  {
   "cell_type": "code",
   "execution_count": 24,
   "id": "21e72b60",
   "metadata": {},
   "outputs": [
    {
     "name": "stdout",
     "output_type": "stream",
     "text": [
      "Model: \"sequential_7\"\n",
      "_________________________________________________________________\n",
      "Layer (type)                 Output Shape              Param #   \n",
      "=================================================================\n",
      "conv1d_12 (Conv1D)           (None, 10, 20)            320       \n",
      "_________________________________________________________________\n",
      "conv1d_13 (Conv1D)           (None, 10, 5)             105       \n",
      "_________________________________________________________________\n",
      "flatten_6 (Flatten)          (None, 50)                0         \n",
      "_________________________________________________________________\n",
      "dense_18 (Dense)             (None, 20)                1020      \n",
      "_________________________________________________________________\n",
      "dense_19 (Dense)             (None, 10)                210       \n",
      "_________________________________________________________________\n",
      "dense_20 (Dense)             (None, 1)                 11        \n",
      "=================================================================\n",
      "Total params: 1,666\n",
      "Trainable params: 1,666\n",
      "Non-trainable params: 0\n",
      "_________________________________________________________________\n"
     ]
    }
   ],
   "source": [
    "#Define the model\n",
    "model = Sequential()\n",
    "model.add(Conv1D(filters=20, kernel_size=15, strides=15, activation='relu',input_shape=X.shape[1:]))\n",
    "model.add(Conv1D(filters=5, kernel_size=1,activation='relu'))\n",
    "model.add(Flatten())\n",
    "model.add(Dense(20, activation = 'relu'))\n",
    "model.add(Dense(10, activation = 'relu'))\n",
    "model.add(Dense(1, activation='sigmoid'))\n",
    "model.compile(loss='binary_crossentropy',optimizer='adam', metrics=['binary_accuracy'])\n",
    "\n",
    "model.summary()"
   ]
  },
  {
   "cell_type": "code",
   "execution_count": 25,
   "id": "da37bc09",
   "metadata": {},
   "outputs": [
    {
     "name": "stderr",
     "output_type": "stream",
     "text": [
      "2022-06-28 11:26:05.874817: I tensorflow/compiler/mlir/mlir_graph_optimization_pass.cc:185] None of the MLIR Optimization Passes are enabled (registered 2)\n"
     ]
    },
    {
     "name": "stdout",
     "output_type": "stream",
     "text": [
      "Epoch 1/50\n",
      "6236/6236 - 13s - loss: 0.5237 - binary_accuracy: 0.6111 - val_loss: 0.5161 - val_binary_accuracy: 0.6405\n",
      "Epoch 2/50\n",
      "6236/6236 - 7s - loss: 0.5085 - binary_accuracy: 0.6339 - val_loss: 0.5133 - val_binary_accuracy: 0.6031\n",
      "Epoch 3/50\n",
      "6236/6236 - 7s - loss: 0.5029 - binary_accuracy: 0.6418 - val_loss: 0.5025 - val_binary_accuracy: 0.6437\n",
      "Epoch 4/50\n",
      "6236/6236 - 7s - loss: 0.4994 - binary_accuracy: 0.6469 - val_loss: 0.5001 - val_binary_accuracy: 0.6443\n",
      "Epoch 5/50\n",
      "6236/6236 - 7s - loss: 0.4971 - binary_accuracy: 0.6509 - val_loss: 0.5021 - val_binary_accuracy: 0.6600\n",
      "Epoch 6/50\n",
      "6236/6236 - 7s - loss: 0.4946 - binary_accuracy: 0.6539 - val_loss: 0.4970 - val_binary_accuracy: 0.6491\n",
      "Epoch 7/50\n",
      "6236/6236 - 7s - loss: 0.4925 - binary_accuracy: 0.6552 - val_loss: 0.4937 - val_binary_accuracy: 0.6550\n",
      "Epoch 8/50\n",
      "6236/6236 - 7s - loss: 0.4908 - binary_accuracy: 0.6586 - val_loss: 0.4933 - val_binary_accuracy: 0.6570\n",
      "Epoch 9/50\n",
      "6236/6236 - 6s - loss: 0.4892 - binary_accuracy: 0.6611 - val_loss: 0.4920 - val_binary_accuracy: 0.6515\n",
      "Epoch 10/50\n",
      "6236/6236 - 6s - loss: 0.4880 - binary_accuracy: 0.6623 - val_loss: 0.4915 - val_binary_accuracy: 0.6518\n",
      "Epoch 11/50\n",
      "6236/6236 - 7s - loss: 0.4869 - binary_accuracy: 0.6644 - val_loss: 0.4934 - val_binary_accuracy: 0.6523\n",
      "Epoch 12/50\n",
      "6236/6236 - 7s - loss: 0.4864 - binary_accuracy: 0.6643 - val_loss: 0.4926 - val_binary_accuracy: 0.6711\n",
      "Epoch 13/50\n",
      "6236/6236 - 7s - loss: 0.4856 - binary_accuracy: 0.6659 - val_loss: 0.4919 - val_binary_accuracy: 0.6717\n",
      "Epoch 14/50\n",
      "6236/6236 - 7s - loss: 0.4849 - binary_accuracy: 0.6666 - val_loss: 0.4903 - val_binary_accuracy: 0.6594\n",
      "Epoch 15/50\n",
      "6236/6236 - 7s - loss: 0.4844 - binary_accuracy: 0.6667 - val_loss: 0.4899 - val_binary_accuracy: 0.6557\n",
      "Epoch 16/50\n",
      "6236/6236 - 7s - loss: 0.4841 - binary_accuracy: 0.6681 - val_loss: 0.4886 - val_binary_accuracy: 0.6599\n",
      "Epoch 17/50\n",
      "6236/6236 - 7s - loss: 0.4834 - binary_accuracy: 0.6689 - val_loss: 0.4905 - val_binary_accuracy: 0.6670\n",
      "Epoch 18/50\n",
      "6236/6236 - 6s - loss: 0.4832 - binary_accuracy: 0.6677 - val_loss: 0.4887 - val_binary_accuracy: 0.6590\n",
      "Epoch 19/50\n",
      "6236/6236 - 7s - loss: 0.4828 - binary_accuracy: 0.6690 - val_loss: 0.4891 - val_binary_accuracy: 0.6509\n",
      "Epoch 20/50\n",
      "6236/6236 - 6s - loss: 0.4822 - binary_accuracy: 0.6696 - val_loss: 0.4890 - val_binary_accuracy: 0.6673\n",
      "Epoch 21/50\n",
      "6236/6236 - 7s - loss: 0.4820 - binary_accuracy: 0.6697 - val_loss: 0.4892 - val_binary_accuracy: 0.6619\n",
      "Epoch 00021: early stopping\n"
     ]
    },
    {
     "data": {
      "text/plain": [
       "<keras.callbacks.History at 0x7f028c36feb0>"
      ]
     },
     "execution_count": 25,
     "metadata": {},
     "output_type": "execute_result"
    }
   ],
   "source": [
    "#Train the network\n",
    "callback = tf.keras.callbacks.EarlyStopping(monitor='val_loss', verbose=1, patience=5)\n",
    "\n",
    "model.fit(X,y,\n",
    "          epochs=50,\n",
    "          batch_size=50,\n",
    "          verbose=2,\n",
    "          sample_weight=np.asarray(weights),\n",
    "          validation_split=0.20,\n",
    "          callbacks=[callback])"
   ]
  },
  {
   "cell_type": "code",
   "execution_count": 26,
   "id": "2f296cd1",
   "metadata": {},
   "outputs": [],
   "source": [
    "model.save('../saved_model/L1BTagModel_15_feat_TTdXYPup.h5')"
   ]
  },
  {
   "cell_type": "markdown",
   "id": "bbf93e0d",
   "metadata": {},
   "source": [
    "## 2. Make performance plot for the model"
   ]
  },
  {
   "cell_type": "code",
   "execution_count": 29,
   "id": "74000994",
   "metadata": {},
   "outputs": [],
   "source": [
    "#Establish the input and output data for each dataset, expanding dimensions for compatability with Conv1D layer input\n",
    "def load_testing_data(data_path):\n",
    "    \n",
    "    with h5py.File(data_path, 'r') as hf:\n",
    "        dataset = hf[\"Testing Data\"][:]\n",
    "    X_test = dataset[:,0:len(dataset[0])-1]\n",
    "    X_test = expand_dims(X_test, axis=2)\n",
    "    y_test = dataset[:,len(dataset[0])-1]\n",
    "    \n",
    "    #zero padding X_test\n",
    "    X_test= np.pad(X_test, ((0,0),(0,20),(0,0)), 'constant')\n",
    "    \n",
    "    return X_test, y_test\n",
    "\n",
    "X_test, y_test = load_testing_data('../data/testingDataTTdXYPup.h5')"
   ]
  },
  {
   "cell_type": "code",
   "execution_count": 30,
   "id": "e6ee8c4b",
   "metadata": {},
   "outputs": [],
   "source": [
    "#Load in respective model for the datasets\n",
    "#model_1 = load_model('../saved_model/L1BTagModel_100GRU.h5')\n",
    "model_2 = load_model('../saved_model/L1BTagModel_15_feat_TTdXYPup.h5')\n",
    "\n",
    "#Creating ROC curves based on model predictions for each dataset\n",
    "#y_pred_1 = model_1.predict(X_test).ravel()\n",
    "y_pred_2 = model_2.predict(X_test).ravel()\n",
    "\n",
    "#fpr_1, tpr_1, thresholds_1 = roc_curve(y_test, y_pred_1)\n",
    "fpr_2, tpr_2, thresholds_2 = roc_curve(y_test, y_pred_2)\n",
    "\n",
    "#auc_1 = auc(fpr_1, tpr_1)\n",
    "auc_2 = auc(fpr_2, tpr_2)"
   ]
  },
  {
   "cell_type": "code",
   "execution_count": 31,
   "id": "9e89e188",
   "metadata": {},
   "outputs": [
    {
     "data": {
      "text/plain": [
       "<matplotlib.legend.Legend at 0x7f01907d3e50>"
      ]
     },
     "execution_count": 31,
     "metadata": {},
     "output_type": "execute_result"
    },
    {
     "data": {
      "image/png": "[encoded data removed]",
      "text/plain": [
       "<Figure size 720x720 with 1 Axes>"
      ]
     },
     "metadata": {
      "needs_background": "light"
     },
     "output_type": "display_data"
    }
   ],
   "source": [
    "#Create plot for ROC\n",
    "plt.figure(1)\n",
    "plt.plot([0,1],[0,1],'k--')\n",
    "\n",
    "#plt.plot(fpr_1, tpr_1, label='Conv1D 100GRU, AUC={:.3f}'.format(auc_1))\n",
    "plt.plot(fpr_2, tpr_2, label='Tiny Conv1D Flatten, AUC={:.3f}'.format(auc_2))\n",
    "\n",
    "#Establish labels and save image\n",
    "plt.xlabel('False positive rate')\n",
    "plt.ylabel('True positive rate')\n",
    "plt.legend(loc='best')\n",
    "\n",
    "#p_path = save_path + \"v2LargerTinyConv1D_100GRU_Flatten.pdf\"\n",
    "#print(p_path)\n",
    "#plt.savefig(p_path, bbox_inches='tight')"
   ]
  },
  {
   "cell_type": "code",
   "execution_count": null,
   "id": "8241d60e",
   "metadata": {},
   "outputs": [],
   "source": []
  }
 ],
 "metadata": {
  "kernelspec": {
   "display_name": "Python 3",
   "language": "python",
   "name": "python3"
  },
  "language_info": {
   "codemirror_mode": {
    "name": "ipython",
    "version": 3
   },
   "file_extension": ".py",
   "mimetype": "text/x-python",
   "name": "python",
   "nbconvert_exporter": "python",
   "pygments_lexer": "ipython3",
   "version": "3.8.13"
  }
 },
 "nbformat": 4,
 "nbformat_minor": 5
}
